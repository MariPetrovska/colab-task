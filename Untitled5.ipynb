{
  "nbformat": 4,
  "nbformat_minor": 0,
  "metadata": {
    "colab": {
      "provenance": [],
      "authorship_tag": "ABX9TyNHGdQ+SKTunKkW7h5/N7na",
      "include_colab_link": true
    },
    "kernelspec": {
      "name": "python3",
      "display_name": "Python 3"
    },
    "language_info": {
      "name": "python"
    }
  },
  "cells": [
    {
      "cell_type": "markdown",
      "metadata": {
        "id": "view-in-github",
        "colab_type": "text"
      },
      "source": [
        "<a href=\"https://colab.research.google.com/github/MariPetrovska/colab-task/blob/main/Untitled5.ipynb\" target=\"_parent\"><img src=\"https://colab.research.google.com/assets/colab-badge.svg\" alt=\"Open In Colab\"/></a>"
      ]
    },
    {
      "cell_type": "code",
      "execution_count": null,
      "metadata": {
        "colab": {
          "base_uri": "https://localhost:8080/"
        },
        "id": "AeWKMGQB0HIn",
        "outputId": "6ce601e1-3e8b-48a4-b57b-175f2022d6af"
      },
      "outputs": [
        {
          "output_type": "stream",
          "name": "stdout",
          "text": [
            "Hello, Colab!\n",
            "Sum: 8\n"
          ]
        }
      ],
      "source": [
        "# Print a greeting\n",
        "print(\"Hello, Colab!\")\n",
        "\n",
        "# Do a simple calculation\n",
        "a = 5\n",
        "b = 3\n",
        "print(\"Sum:\", a + b)\n",
        "\n"
      ]
    }
  ]
}